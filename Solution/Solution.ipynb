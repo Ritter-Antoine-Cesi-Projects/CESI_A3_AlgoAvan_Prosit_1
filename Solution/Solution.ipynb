{
 "cells": [
  {
   "cell_type": "markdown",
   "id": "57824590",
   "metadata": {},
   "source": [
    "# Solution\n",
    "\n",
    "Dans cette solution je vais utiliser des algorithmes pour explorer l'ensemble des arrêtes du graphepour trouver un chemin qui passe par toutes les arrêtes une seule fois. Pour cela, je vais utiliser l'algorithme de Fleury qui est un algorithme qui permet de trouver un chemin eulérien dans un graphe.\n",
    "\n",
    "## Plan\n",
    "\n",
    "1. Vérifier si le graphe est eulérien en vérifiant si tous les sommets ont un degré pair.\n",
    "2. Trouver un chemin eulérien en utilisant l'algorithme.\n",
    "3. Retourner le chemin trouvé.\n",
    "\n",
    "## Graphe\n",
    "\n",
    "Le graphe est représenté par une liste d'adjacence. Chaque sommet est un entier et chaque arrête est une paire de sommets.\n",
    "\n",
    "Schéma du graphe :\n",
    "\n",
    "<img src=\"Graphs_1.png\">\n",
    "\n",
    "Graphe simplifié :\n",
    "\n",
    "<img src=\"Graphs_2.png\">\n",
    "\n",
    "## Implémentation"
   ]
  },
  {
   "cell_type": "code",
   "execution_count": 1,
   "id": "8f6ac09b",
   "metadata": {},
   "outputs": [
    {
     "name": "stdout",
     "output_type": "stream",
     "text": [
      "['A', 'C', 'B', 'C', 'A', 'B', 'A']\n"
     ]
    }
   ],
   "source": [
    "graph = {\n",
    "    'A': [0, 2, 2],\n",
    "    'B': [2, 0, 2],\n",
    "    'C': [2, 2, 0]\n",
    "}\n",
    "\n",
    "def is_eulerian(graph):\n",
    "    for node in graph:\n",
    "        if sum(graph[node]) % 2 != 0:\n",
    "            return False\n",
    "    return True\n",
    "\n",
    "def find_eulerian_path(graph, start):\n",
    "    if not is_eulerian(graph):\n",
    "        return \"Le graphe n'est pas eulerien\"\n",
    "    path = []\n",
    "    def find_path(node):\n",
    "        for i, neighbor in enumerate(graph[node]):\n",
    "            if neighbor > 0:\n",
    "                graph[node][i] -= 1\n",
    "                graph[list(graph.keys())[i]][list(graph.keys()).index(node)] -= 1\n",
    "                find_path(list(graph.keys())[i])\n",
    "        path.append(node)\n",
    "    find_path(start)\n",
    "    return path\n",
    "\n",
    "start_point = 'A'\n",
    "path = find_eulerian_path(graph, start_point)\n",
    "print(path)"
   ]
  },
  {
   "cell_type": "code",
   "execution_count": 3,
   "id": "7f4c114b-df43-4e7f-bc4d-a2e34ab4ebbd",
   "metadata": {},
   "outputs": [
    {
     "name": "stdout",
     "output_type": "stream",
     "text": [
      "['I', 'J', 'G', 'F', 'F', 'D', 'G', 'H', 'B', 'A', 'C', 'D', 'E', 'F', 'I']\n",
      "Temps d'exécution :  0.0010981559753417969 s\n"
     ]
    }
   ],
   "source": [
    "import time\n",
    "\n",
    "graph = {\n",
    "    'A': [0, 1, 1, 0, 0, 0, 0, 0, 0, 0],\n",
    "    'B': [1, 0, 0, 0, 0, 0, 0, 1, 0, 0],\n",
    "    'C': [1, 0, 0, 1, 0, 0, 0, 0, 0, 0],\n",
    "    'D': [0, 0, 1, 0, 1, 1, 1, 0, 0, 0],\n",
    "    'E': [0, 0, 0, 1, 0, 1, 0, 0, 0, 0],\n",
    "    'F': [0, 0, 0, 0, 1, 1, 1, 0, 1, 0],\n",
    "    'G': [0, 0, 0, 1, 0, 1, 0, 1, 0, 1],\n",
    "    'H': [0, 1, 0, 0, 0, 0, 1, 0, 0, 0],\n",
    "    'I': [0, 0, 0, 0, 0, 1, 0, 0, 0, 1],\n",
    "    'J': [0, 0, 0, 0, 0, 0, 1, 0, 1, 0]\n",
    "}\n",
    "\n",
    "start_point = 'I'\n",
    "\n",
    "start_point = 'I'\n",
    "start = time.time()\n",
    "path = find_eulerian_path(graph, start_point)\n",
    "end = time.time()\n",
    "print(path)\n",
    "print(\"Temps d'exécution : \", end - start, \"s\")"
   ]
  },
  {
   "cell_type": "code",
   "execution_count": null,
   "id": "7ff4ff3a-a6ec-487d-a916-b3ef1551b185",
   "metadata": {},
   "outputs": [],
   "source": []
  }
 ],
 "metadata": {
  "kernelspec": {
   "display_name": "Python 3 (ipykernel)",
   "language": "python",
   "name": "python3"
  },
  "language_info": {
   "codemirror_mode": {
    "name": "ipython",
    "version": 3
   },
   "file_extension": ".py",
   "mimetype": "text/x-python",
   "name": "python",
   "nbconvert_exporter": "python",
   "pygments_lexer": "ipython3",
   "version": "3.12.2"
  }
 },
 "nbformat": 4,
 "nbformat_minor": 5
}
